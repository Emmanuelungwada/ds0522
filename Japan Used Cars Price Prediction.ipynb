{
 "cells": [https://github.com/dsrscientist/Data-Science-ML-Capstone-Projects/raw/master/baseball.csv
  {
   "cell_type": "code",
   "execution_count": null,
   "id": "7f452cec",
   "metadata": {},
   "outputs": [],
   "source": []
  },
  {
   "cell_type": "code",
   "execution_count": 11,
   "id": "32715d6b",
   "metadata": {},
   "outputs": [],
   "source": [
    "import pandas as pd\n",
    "import seaborn as sns\n",
    "import matplotlib.pyplot as plt\n",
    "from matplotlib import style\n",
    "from sklearn.model_selection import train_test_split\n",
    "from sklearn.linear_model import LinearRegression\n",
    "\n",
    "from mpl_toolkits.mplot3d import Axes3D\n",
    "from sklearn.preprocessing import StandardScaler\n",
    "import matplotlib.pyplot as plt # plotting\n",
    "import numpy as np # linear algebra\n",
    "import os # accessing directory structure\n",
    "import pandas as pd # data processing, CSV file I/O (e.g. pd.read_csv)\n",
    "import seaborn as sns\n",
    "import plotly.express as px"
   ]
  },
  {
   "cell_type": "code",
   "execution_count": 2,
   "id": "0f202f94",
   "metadata": {},
   "outputs": [],
   "source": [
    "df = pd.read_csv(\"https://github.com/dsrscientist/dataset4/raw/main/Japan_used_cars_datasets.csv\")"
   ]
  },
  {
   "cell_type": "code",
   "execution_count": 3,
   "id": "75bcb334",
   "metadata": {},
   "outputs": [
    {
     "data": {
      "text/html": [
       "<div>\n",
       "<style scoped>\n",
       "    .dataframe tbody tr th:only-of-type {\n",
       "        vertical-align: middle;\n",
       "    }\n",
       "\n",
       "    .dataframe tbody tr th {\n",
       "        vertical-align: top;\n",
       "    }\n",
       "\n",
       "    .dataframe thead th {\n",
       "        text-align: right;\n",
       "    }\n",
       "</style>\n",
       "<table border=\"1\" class=\"dataframe\">\n",
       "  <thead>\n",
       "    <tr style=\"text-align: right;\">\n",
       "      <th></th>\n",
       "      <th>id</th>\n",
       "      <th>price</th>\n",
       "      <th>mark</th>\n",
       "      <th>model</th>\n",
       "      <th>year</th>\n",
       "      <th>mileage</th>\n",
       "      <th>engine_capacity</th>\n",
       "      <th>transmission</th>\n",
       "      <th>drive</th>\n",
       "      <th>hand_drive</th>\n",
       "      <th>fuel</th>\n",
       "    </tr>\n",
       "  </thead>\n",
       "  <tbody>\n",
       "    <tr>\n",
       "      <th>0</th>\n",
       "      <td>0</td>\n",
       "      <td>80</td>\n",
       "      <td>nissan</td>\n",
       "      <td>march</td>\n",
       "      <td>2003</td>\n",
       "      <td>80000</td>\n",
       "      <td>1240</td>\n",
       "      <td>at</td>\n",
       "      <td>2wd</td>\n",
       "      <td>rhd</td>\n",
       "      <td>gasoline</td>\n",
       "    </tr>\n",
       "    <tr>\n",
       "      <th>1</th>\n",
       "      <td>1</td>\n",
       "      <td>110</td>\n",
       "      <td>nissan</td>\n",
       "      <td>march</td>\n",
       "      <td>2010</td>\n",
       "      <td>53000</td>\n",
       "      <td>1200</td>\n",
       "      <td>at</td>\n",
       "      <td>2wd</td>\n",
       "      <td>rhd</td>\n",
       "      <td>gasoline</td>\n",
       "    </tr>\n",
       "    <tr>\n",
       "      <th>2</th>\n",
       "      <td>2</td>\n",
       "      <td>165</td>\n",
       "      <td>nissan</td>\n",
       "      <td>lafesta</td>\n",
       "      <td>2005</td>\n",
       "      <td>47690</td>\n",
       "      <td>2000</td>\n",
       "      <td>at</td>\n",
       "      <td>2wd</td>\n",
       "      <td>rhd</td>\n",
       "      <td>gasoline</td>\n",
       "    </tr>\n",
       "    <tr>\n",
       "      <th>3</th>\n",
       "      <td>3</td>\n",
       "      <td>190</td>\n",
       "      <td>toyota</td>\n",
       "      <td>avensis</td>\n",
       "      <td>2008</td>\n",
       "      <td>130661</td>\n",
       "      <td>1990</td>\n",
       "      <td>at</td>\n",
       "      <td>2wd</td>\n",
       "      <td>rhd</td>\n",
       "      <td>gasoline</td>\n",
       "    </tr>\n",
       "    <tr>\n",
       "      <th>4</th>\n",
       "      <td>4</td>\n",
       "      <td>190</td>\n",
       "      <td>daihatsu</td>\n",
       "      <td>mira</td>\n",
       "      <td>2006</td>\n",
       "      <td>66300</td>\n",
       "      <td>660</td>\n",
       "      <td>at</td>\n",
       "      <td>2wd</td>\n",
       "      <td>rhd</td>\n",
       "      <td>gasoline</td>\n",
       "    </tr>\n",
       "    <tr>\n",
       "      <th>...</th>\n",
       "      <td>...</td>\n",
       "      <td>...</td>\n",
       "      <td>...</td>\n",
       "      <td>...</td>\n",
       "      <td>...</td>\n",
       "      <td>...</td>\n",
       "      <td>...</td>\n",
       "      <td>...</td>\n",
       "      <td>...</td>\n",
       "      <td>...</td>\n",
       "      <td>...</td>\n",
       "    </tr>\n",
       "    <tr>\n",
       "      <th>2313</th>\n",
       "      <td>2331</td>\n",
       "      <td>1400</td>\n",
       "      <td>toyota</td>\n",
       "      <td>vitz</td>\n",
       "      <td>2009</td>\n",
       "      <td>121000</td>\n",
       "      <td>996</td>\n",
       "      <td>at</td>\n",
       "      <td>2wd</td>\n",
       "      <td>rhd</td>\n",
       "      <td>gasoline</td>\n",
       "    </tr>\n",
       "    <tr>\n",
       "      <th>2314</th>\n",
       "      <td>2332</td>\n",
       "      <td>1400</td>\n",
       "      <td>toyota</td>\n",
       "      <td>estima</td>\n",
       "      <td>2003</td>\n",
       "      <td>101000</td>\n",
       "      <td>3000</td>\n",
       "      <td>at</td>\n",
       "      <td>2wd</td>\n",
       "      <td>rhd</td>\n",
       "      <td>gasoline</td>\n",
       "    </tr>\n",
       "    <tr>\n",
       "      <th>2315</th>\n",
       "      <td>2333</td>\n",
       "      <td>1400</td>\n",
       "      <td>subaru</td>\n",
       "      <td>r2</td>\n",
       "      <td>2005</td>\n",
       "      <td>101000</td>\n",
       "      <td>660</td>\n",
       "      <td>cvt</td>\n",
       "      <td>2wd</td>\n",
       "      <td>rhd</td>\n",
       "      <td>gasoline</td>\n",
       "    </tr>\n",
       "    <tr>\n",
       "      <th>2316</th>\n",
       "      <td>2334</td>\n",
       "      <td>1400</td>\n",
       "      <td>honda</td>\n",
       "      <td>z</td>\n",
       "      <td>2000</td>\n",
       "      <td>170000</td>\n",
       "      <td>660</td>\n",
       "      <td>at</td>\n",
       "      <td>4wd</td>\n",
       "      <td>rhd</td>\n",
       "      <td>gasoline</td>\n",
       "    </tr>\n",
       "    <tr>\n",
       "      <th>2317</th>\n",
       "      <td>2335</td>\n",
       "      <td>1400</td>\n",
       "      <td>toyota</td>\n",
       "      <td>estima t</td>\n",
       "      <td>2005</td>\n",
       "      <td>72320</td>\n",
       "      <td>3000</td>\n",
       "      <td>at</td>\n",
       "      <td>2wd</td>\n",
       "      <td>rhd</td>\n",
       "      <td>gasoline</td>\n",
       "    </tr>\n",
       "  </tbody>\n",
       "</table>\n",
       "<p>2318 rows × 11 columns</p>\n",
       "</div>"
      ],
      "text/plain": [
       "        id  price      mark     model  year  mileage  engine_capacity  \\\n",
       "0        0     80    nissan     march  2003    80000             1240   \n",
       "1        1    110    nissan     march  2010    53000             1200   \n",
       "2        2    165    nissan   lafesta  2005    47690             2000   \n",
       "3        3    190    toyota   avensis  2008   130661             1990   \n",
       "4        4    190  daihatsu      mira  2006    66300              660   \n",
       "...    ...    ...       ...       ...   ...      ...              ...   \n",
       "2313  2331   1400    toyota      vitz  2009   121000              996   \n",
       "2314  2332   1400    toyota    estima  2003   101000             3000   \n",
       "2315  2333   1400    subaru        r2  2005   101000              660   \n",
       "2316  2334   1400     honda         z  2000   170000              660   \n",
       "2317  2335   1400    toyota  estima t  2005    72320             3000   \n",
       "\n",
       "     transmission drive hand_drive      fuel  \n",
       "0              at   2wd        rhd  gasoline  \n",
       "1              at   2wd        rhd  gasoline  \n",
       "2              at   2wd        rhd  gasoline  \n",
       "3              at   2wd        rhd  gasoline  \n",
       "4              at   2wd        rhd  gasoline  \n",
       "...           ...   ...        ...       ...  \n",
       "2313           at   2wd        rhd  gasoline  \n",
       "2314           at   2wd        rhd  gasoline  \n",
       "2315          cvt   2wd        rhd  gasoline  \n",
       "2316           at   4wd        rhd  gasoline  \n",
       "2317           at   2wd        rhd  gasoline  \n",
       "\n",
       "[2318 rows x 11 columns]"
      ]
     },
     "execution_count": 3,
     "metadata": {},
     "output_type": "execute_result"
    }
   ],
   "source": [
    "df"
   ]
  },
  {
   "cell_type": "code",
   "execution_count": null,
   "id": "57e588ed",
   "metadata": {},
   "outputs": [],
   "source": []
  },
  {
   "cell_type": "code",
   "execution_count": 4,
   "id": "1ea6c3df",
   "metadata": {},
   "outputs": [
    {
     "data": {
      "text/html": [
       "<div>\n",
       "<style scoped>\n",
       "    .dataframe tbody tr th:only-of-type {\n",
       "        vertical-align: middle;\n",
       "    }\n",
       "\n",
       "    .dataframe tbody tr th {\n",
       "        vertical-align: top;\n",
       "    }\n",
       "\n",
       "    .dataframe thead th {\n",
       "        text-align: right;\n",
       "    }\n",
       "</style>\n",
       "<table border=\"1\" class=\"dataframe\">\n",
       "  <thead>\n",
       "    <tr style=\"text-align: right;\">\n",
       "      <th></th>\n",
       "      <th>id</th>\n",
       "      <th>price</th>\n",
       "      <th>mark</th>\n",
       "      <th>model</th>\n",
       "      <th>year</th>\n",
       "      <th>mileage</th>\n",
       "      <th>engine_capacity</th>\n",
       "      <th>transmission</th>\n",
       "      <th>drive</th>\n",
       "      <th>hand_drive</th>\n",
       "      <th>fuel</th>\n",
       "    </tr>\n",
       "  </thead>\n",
       "  <tbody>\n",
       "    <tr>\n",
       "      <th>0</th>\n",
       "      <td>0</td>\n",
       "      <td>80</td>\n",
       "      <td>nissan</td>\n",
       "      <td>march</td>\n",
       "      <td>2003</td>\n",
       "      <td>80000</td>\n",
       "      <td>1240</td>\n",
       "      <td>at</td>\n",
       "      <td>2wd</td>\n",
       "      <td>rhd</td>\n",
       "      <td>gasoline</td>\n",
       "    </tr>\n",
       "    <tr>\n",
       "      <th>1</th>\n",
       "      <td>1</td>\n",
       "      <td>110</td>\n",
       "      <td>nissan</td>\n",
       "      <td>march</td>\n",
       "      <td>2010</td>\n",
       "      <td>53000</td>\n",
       "      <td>1200</td>\n",
       "      <td>at</td>\n",
       "      <td>2wd</td>\n",
       "      <td>rhd</td>\n",
       "      <td>gasoline</td>\n",
       "    </tr>\n",
       "    <tr>\n",
       "      <th>2</th>\n",
       "      <td>2</td>\n",
       "      <td>165</td>\n",
       "      <td>nissan</td>\n",
       "      <td>lafesta</td>\n",
       "      <td>2005</td>\n",
       "      <td>47690</td>\n",
       "      <td>2000</td>\n",
       "      <td>at</td>\n",
       "      <td>2wd</td>\n",
       "      <td>rhd</td>\n",
       "      <td>gasoline</td>\n",
       "    </tr>\n",
       "    <tr>\n",
       "      <th>3</th>\n",
       "      <td>3</td>\n",
       "      <td>190</td>\n",
       "      <td>toyota</td>\n",
       "      <td>avensis</td>\n",
       "      <td>2008</td>\n",
       "      <td>130661</td>\n",
       "      <td>1990</td>\n",
       "      <td>at</td>\n",
       "      <td>2wd</td>\n",
       "      <td>rhd</td>\n",
       "      <td>gasoline</td>\n",
       "    </tr>\n",
       "    <tr>\n",
       "      <th>4</th>\n",
       "      <td>4</td>\n",
       "      <td>190</td>\n",
       "      <td>daihatsu</td>\n",
       "      <td>mira</td>\n",
       "      <td>2006</td>\n",
       "      <td>66300</td>\n",
       "      <td>660</td>\n",
       "      <td>at</td>\n",
       "      <td>2wd</td>\n",
       "      <td>rhd</td>\n",
       "      <td>gasoline</td>\n",
       "    </tr>\n",
       "  </tbody>\n",
       "</table>\n",
       "</div>"
      ],
      "text/plain": [
       "   id  price      mark    model  year  mileage  engine_capacity transmission  \\\n",
       "0   0     80    nissan    march  2003    80000             1240           at   \n",
       "1   1    110    nissan    march  2010    53000             1200           at   \n",
       "2   2    165    nissan  lafesta  2005    47690             2000           at   \n",
       "3   3    190    toyota  avensis  2008   130661             1990           at   \n",
       "4   4    190  daihatsu     mira  2006    66300              660           at   \n",
       "\n",
       "  drive hand_drive      fuel  \n",
       "0   2wd        rhd  gasoline  \n",
       "1   2wd        rhd  gasoline  \n",
       "2   2wd        rhd  gasoline  \n",
       "3   2wd        rhd  gasoline  \n",
       "4   2wd        rhd  gasoline  "
      ]
     },
     "execution_count": 4,
     "metadata": {},
     "output_type": "execute_result"
    }
   ],
   "source": [
    "df.head()"
   ]
  },
  {
   "cell_type": "code",
   "execution_count": null,
   "id": "0e3ebb50",
   "metadata": {},
   "outputs": [],
   "source": []
  },
  {
   "cell_type": "code",
   "execution_count": 5,
   "id": "c959cb18",
   "metadata": {},
   "outputs": [
    {
     "name": "stdout",
     "output_type": "stream",
     "text": [
      "<class 'pandas.core.frame.DataFrame'>\n",
      "RangeIndex: 2318 entries, 0 to 2317\n",
      "Data columns (total 11 columns):\n",
      " #   Column           Non-Null Count  Dtype \n",
      "---  ------           --------------  ----- \n",
      " 0   id               2318 non-null   int64 \n",
      " 1   price            2318 non-null   int64 \n",
      " 2   mark             2318 non-null   object\n",
      " 3   model            2318 non-null   object\n",
      " 4   year             2318 non-null   int64 \n",
      " 5   mileage          2318 non-null   int64 \n",
      " 6   engine_capacity  2318 non-null   int64 \n",
      " 7   transmission     2318 non-null   object\n",
      " 8   drive            2318 non-null   object\n",
      " 9   hand_drive       2318 non-null   object\n",
      " 10  fuel             2318 non-null   object\n",
      "dtypes: int64(5), object(6)\n",
      "memory usage: 199.3+ KB\n"
     ]
    }
   ],
   "source": [
    "df.info()"
   ]
  },
  {
   "cell_type": "code",
   "execution_count": null,
   "id": "cfdd5694",
   "metadata": {},
   "outputs": [],
   "source": []
  },
  {
   "cell_type": "code",
   "execution_count": 13,
   "id": "11ba7c3d",
   "metadata": {},
   "outputs": [],
   "source": [
    "for dirname, _, filenames in os.walk('https://github.com/dsrscientist/dataset4/raw/main/Japan_used_cars_datasets.csv'):\n",
    "    for filename in filenames:\n",
    "        print(os.path.join(dirname, filename))"
   ]
  },
  {
   "cell_type": "code",
   "execution_count": 15,
   "id": "4fbfd9d8",
   "metadata": {},
   "outputs": [
    {
     "data": {
      "text/html": [
       "<div>\n",
       "<style scoped>\n",
       "    .dataframe tbody tr th:only-of-type {\n",
       "        vertical-align: middle;\n",
       "    }\n",
       "\n",
       "    .dataframe tbody tr th {\n",
       "        vertical-align: top;\n",
       "    }\n",
       "\n",
       "    .dataframe thead th {\n",
       "        text-align: right;\n",
       "    }\n",
       "</style>\n",
       "<table border=\"1\" class=\"dataframe\">\n",
       "  <thead>\n",
       "    <tr style=\"text-align: right;\">\n",
       "      <th></th>\n",
       "      <th>id</th>\n",
       "      <th>price</th>\n",
       "      <th>mark</th>\n",
       "      <th>model</th>\n",
       "      <th>year</th>\n",
       "      <th>mileage</th>\n",
       "      <th>engine_capacity</th>\n",
       "      <th>transmission</th>\n",
       "      <th>drive</th>\n",
       "      <th>hand_drive</th>\n",
       "      <th>fuel</th>\n",
       "    </tr>\n",
       "  </thead>\n",
       "  <tbody>\n",
       "    <tr>\n",
       "      <th>0</th>\n",
       "      <td>0</td>\n",
       "      <td>80</td>\n",
       "      <td>nissan</td>\n",
       "      <td>march</td>\n",
       "      <td>2003</td>\n",
       "      <td>80000</td>\n",
       "      <td>1240</td>\n",
       "      <td>at</td>\n",
       "      <td>2wd</td>\n",
       "      <td>rhd</td>\n",
       "      <td>gasoline</td>\n",
       "    </tr>\n",
       "    <tr>\n",
       "      <th>1</th>\n",
       "      <td>1</td>\n",
       "      <td>110</td>\n",
       "      <td>nissan</td>\n",
       "      <td>march</td>\n",
       "      <td>2010</td>\n",
       "      <td>53000</td>\n",
       "      <td>1200</td>\n",
       "      <td>at</td>\n",
       "      <td>2wd</td>\n",
       "      <td>rhd</td>\n",
       "      <td>gasoline</td>\n",
       "    </tr>\n",
       "    <tr>\n",
       "      <th>2</th>\n",
       "      <td>2</td>\n",
       "      <td>165</td>\n",
       "      <td>nissan</td>\n",
       "      <td>lafesta</td>\n",
       "      <td>2005</td>\n",
       "      <td>47690</td>\n",
       "      <td>2000</td>\n",
       "      <td>at</td>\n",
       "      <td>2wd</td>\n",
       "      <td>rhd</td>\n",
       "      <td>gasoline</td>\n",
       "    </tr>\n",
       "    <tr>\n",
       "      <th>3</th>\n",
       "      <td>3</td>\n",
       "      <td>190</td>\n",
       "      <td>toyota</td>\n",
       "      <td>avensis</td>\n",
       "      <td>2008</td>\n",
       "      <td>130661</td>\n",
       "      <td>1990</td>\n",
       "      <td>at</td>\n",
       "      <td>2wd</td>\n",
       "      <td>rhd</td>\n",
       "      <td>gasoline</td>\n",
       "    </tr>\n",
       "    <tr>\n",
       "      <th>4</th>\n",
       "      <td>4</td>\n",
       "      <td>190</td>\n",
       "      <td>daihatsu</td>\n",
       "      <td>mira</td>\n",
       "      <td>2006</td>\n",
       "      <td>66300</td>\n",
       "      <td>660</td>\n",
       "      <td>at</td>\n",
       "      <td>2wd</td>\n",
       "      <td>rhd</td>\n",
       "      <td>gasoline</td>\n",
       "    </tr>\n",
       "    <tr>\n",
       "      <th>5</th>\n",
       "      <td>5</td>\n",
       "      <td>190</td>\n",
       "      <td>daihatsu</td>\n",
       "      <td>mira</td>\n",
       "      <td>2004</td>\n",
       "      <td>81400</td>\n",
       "      <td>660</td>\n",
       "      <td>at</td>\n",
       "      <td>2wd</td>\n",
       "      <td>rhd</td>\n",
       "      <td>gasoline</td>\n",
       "    </tr>\n",
       "  </tbody>\n",
       "</table>\n",
       "</div>"
      ],
      "text/plain": [
       "   id  price      mark    model  year  mileage  engine_capacity transmission  \\\n",
       "0   0     80    nissan    march  2003    80000             1240           at   \n",
       "1   1    110    nissan    march  2010    53000             1200           at   \n",
       "2   2    165    nissan  lafesta  2005    47690             2000           at   \n",
       "3   3    190    toyota  avensis  2008   130661             1990           at   \n",
       "4   4    190  daihatsu     mira  2006    66300              660           at   \n",
       "5   5    190  daihatsu     mira  2004    81400              660           at   \n",
       "\n",
       "  drive hand_drive      fuel  \n",
       "0   2wd        rhd  gasoline  \n",
       "1   2wd        rhd  gasoline  \n",
       "2   2wd        rhd  gasoline  \n",
       "3   2wd        rhd  gasoline  \n",
       "4   2wd        rhd  gasoline  \n",
       "5   2wd        rhd  gasoline  "
      ]
     },
     "execution_count": 15,
     "metadata": {},
     "output_type": "execute_result"
    }
   ],
   "source": [
    "df.head(6)"
   ]
  },
  {
   "cell_type": "code",
   "execution_count": 17,
   "id": "eb668f38",
   "metadata": {},
   "outputs": [
    {
     "data": {
      "text/plain": [
       "(2318, 11)"
      ]
     },
     "execution_count": 17,
     "metadata": {},
     "output_type": "execute_result"
    }
   ],
   "source": [
    "df.shape"
   ]
  },
  {
   "cell_type": "code",
   "execution_count": 18,
   "id": "86dcd9de",
   "metadata": {},
   "outputs": [
    {
     "data": {
      "text/html": [
       "<div>\n",
       "<style scoped>\n",
       "    .dataframe tbody tr th:only-of-type {\n",
       "        vertical-align: middle;\n",
       "    }\n",
       "\n",
       "    .dataframe tbody tr th {\n",
       "        vertical-align: top;\n",
       "    }\n",
       "\n",
       "    .dataframe thead th {\n",
       "        text-align: right;\n",
       "    }\n",
       "</style>\n",
       "<table border=\"1\" class=\"dataframe\">\n",
       "  <thead>\n",
       "    <tr style=\"text-align: right;\">\n",
       "      <th></th>\n",
       "      <th>id</th>\n",
       "      <th>price</th>\n",
       "      <th>year</th>\n",
       "      <th>mileage</th>\n",
       "      <th>engine_capacity</th>\n",
       "    </tr>\n",
       "  </thead>\n",
       "  <tbody>\n",
       "    <tr>\n",
       "      <th>count</th>\n",
       "      <td>2318.000000</td>\n",
       "      <td>2318.000000</td>\n",
       "      <td>2318.000000</td>\n",
       "      <td>2318.000000</td>\n",
       "      <td>2318.000000</td>\n",
       "    </tr>\n",
       "    <tr>\n",
       "      <th>mean</th>\n",
       "      <td>1169.047023</td>\n",
       "      <td>971.522433</td>\n",
       "      <td>2005.972390</td>\n",
       "      <td>100013.194996</td>\n",
       "      <td>1507.010785</td>\n",
       "    </tr>\n",
       "    <tr>\n",
       "      <th>std</th>\n",
       "      <td>674.460724</td>\n",
       "      <td>288.673112</td>\n",
       "      <td>3.698863</td>\n",
       "      <td>52512.478883</td>\n",
       "      <td>549.585170</td>\n",
       "    </tr>\n",
       "    <tr>\n",
       "      <th>min</th>\n",
       "      <td>0.000000</td>\n",
       "      <td>80.000000</td>\n",
       "      <td>1979.000000</td>\n",
       "      <td>2000.000000</td>\n",
       "      <td>9.000000</td>\n",
       "    </tr>\n",
       "    <tr>\n",
       "      <th>25%</th>\n",
       "      <td>583.250000</td>\n",
       "      <td>776.000000</td>\n",
       "      <td>2004.000000</td>\n",
       "      <td>67000.000000</td>\n",
       "      <td>1300.000000</td>\n",
       "    </tr>\n",
       "    <tr>\n",
       "      <th>50%</th>\n",
       "      <td>1168.500000</td>\n",
       "      <td>1000.000000</td>\n",
       "      <td>2006.000000</td>\n",
       "      <td>94000.000000</td>\n",
       "      <td>1490.000000</td>\n",
       "    </tr>\n",
       "    <tr>\n",
       "      <th>75%</th>\n",
       "      <td>1753.750000</td>\n",
       "      <td>1213.000000</td>\n",
       "      <td>2009.000000</td>\n",
       "      <td>124000.000000</td>\n",
       "      <td>1800.000000</td>\n",
       "    </tr>\n",
       "    <tr>\n",
       "      <th>max</th>\n",
       "      <td>2335.000000</td>\n",
       "      <td>1400.000000</td>\n",
       "      <td>2015.000000</td>\n",
       "      <td>790000.000000</td>\n",
       "      <td>12340.000000</td>\n",
       "    </tr>\n",
       "  </tbody>\n",
       "</table>\n",
       "</div>"
      ],
      "text/plain": [
       "                id        price         year        mileage  engine_capacity\n",
       "count  2318.000000  2318.000000  2318.000000    2318.000000      2318.000000\n",
       "mean   1169.047023   971.522433  2005.972390  100013.194996      1507.010785\n",
       "std     674.460724   288.673112     3.698863   52512.478883       549.585170\n",
       "min       0.000000    80.000000  1979.000000    2000.000000         9.000000\n",
       "25%     583.250000   776.000000  2004.000000   67000.000000      1300.000000\n",
       "50%    1168.500000  1000.000000  2006.000000   94000.000000      1490.000000\n",
       "75%    1753.750000  1213.000000  2009.000000  124000.000000      1800.000000\n",
       "max    2335.000000  1400.000000  2015.000000  790000.000000     12340.000000"
      ]
     },
     "execution_count": 18,
     "metadata": {},
     "output_type": "execute_result"
    }
   ],
   "source": [
    "df.describe()"
   ]
  },
  {
   "cell_type": "code",
   "execution_count": 19,
   "id": "49dbd6b6",
   "metadata": {},
   "outputs": [
    {
     "data": {
      "text/plain": [
       "Index(['id', 'price', 'mark', 'model', 'year', 'mileage', 'engine_capacity',\n",
       "       'transmission', 'drive', 'hand_drive', 'fuel'],\n",
       "      dtype='object')"
      ]
     },
     "execution_count": 19,
     "metadata": {},
     "output_type": "execute_result"
    }
   ],
   "source": [
    "df.columns"
   ]
  },
  {
   "cell_type": "code",
   "execution_count": null,
   "id": "21a3a90a",
   "metadata": {},
   "outputs": [],
   "source": []
  },
  {
   "cell_type": "code",
   "execution_count": 20,
   "id": "805b808b",
   "metadata": {},
   "outputs": [
    {
     "data": {
      "text/plain": [
       "id                 0.0\n",
       "price              0.0\n",
       "mark               0.0\n",
       "model              0.0\n",
       "year               0.0\n",
       "mileage            0.0\n",
       "engine_capacity    0.0\n",
       "transmission       0.0\n",
       "drive              0.0\n",
       "hand_drive         0.0\n",
       "fuel               0.0\n",
       "dtype: float64"
      ]
     },
     "execution_count": 20,
     "metadata": {},
     "output_type": "execute_result"
    }
   ],
   "source": [
    "# Checking Null values\n",
    "df.isnull().sum()*100/df.shape[0]"
   ]
  },
  {
   "cell_type": "code",
   "execution_count": null,
   "id": "4a50a612",
   "metadata": {},
   "outputs": [],
   "source": []
  },
  {
   "cell_type": "code",
   "execution_count": 21,
   "id": "2f2d0062",
   "metadata": {},
   "outputs": [
    {
     "name": "stderr",
     "output_type": "stream",
     "text": [
      "/Users/macpro/opt/anaconda3/lib/python3.9/site-packages/seaborn/distributions.py:2619: FutureWarning: `distplot` is a deprecated function and will be removed in a future version. Please adapt your code to use either `displot` (a figure-level function with similar flexibility) or `histplot` (an axes-level function for histograms).\n",
      "  warnings.warn(msg, FutureWarning)\n"
     ]
    },
    {
     "data": {
      "text/plain": [
       "<AxesSubplot:xlabel='price', ylabel='Density'>"
      ]
     },
     "execution_count": 21,
     "metadata": {},
     "output_type": "execute_result"
    },
    {
     "data": {
      "image/png": "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\n",
      "text/plain": [
       "<Figure size 432x288 with 1 Axes>"
      ]
     },
     "metadata": {
      "needs_background": "light"
     },
     "output_type": "display_data"
    }
   ],
   "source": [
    "sns.distplot(df['price'])"
   ]
  },
  {
   "cell_type": "code",
   "execution_count": null,
   "id": "60331bc3",
   "metadata": {},
   "outputs": [],
   "source": []
  },
  {
   "cell_type": "code",
   "execution_count": 25,
   "id": "dd0abf61",
   "metadata": {},
   "outputs": [
    {
     "name": "stderr",
     "output_type": "stream",
     "text": [
      "/Users/macpro/opt/anaconda3/lib/python3.9/site-packages/seaborn/_decorators.py:36: FutureWarning: Pass the following variable as a keyword arg: x. From version 0.12, the only valid positional argument will be `data`, and passing other arguments without an explicit keyword will result in an error or misinterpretation.\n",
      "  warnings.warn(\n"
     ]
    },
    {
     "data": {
      "image/png": "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\n",
      "text/plain": [
       "<Figure size 432x288 with 1 Axes>"
      ]
     },
     "metadata": {
      "needs_background": "light"
     },
     "output_type": "display_data"
    },
    {
     "data": {
      "text/plain": [
       "<Figure size 432x288 with 0 Axes>"
      ]
     },
     "metadata": {},
     "output_type": "display_data"
    }
   ],
   "source": [
    "plt1 = sns.countplot(df['model'])\n",
    "plt1.set(xlabel = 'engine_capacity', ylabel= 'transmission')\n",
    "plt.show()\n",
    "plt.tight_layout()"
   ]
  },
  {
   "cell_type": "code",
   "execution_count": null,
   "id": "a11a1968",
   "metadata": {},
   "outputs": [],
   "source": []
  },
  {
   "cell_type": "code",
   "execution_count": 27,
   "id": "a7ca1c3f",
   "metadata": {},
   "outputs": [
    {
     "data": {
      "image/png": "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\n",
      "text/plain": [
       "<Figure size 576x540 with 1 Axes>"
      ]
     },
     "metadata": {},
     "output_type": "display_data"
    },
    {
     "data": {
      "text/plain": [
       "<Figure size 432x288 with 0 Axes>"
      ]
     },
     "metadata": {},
     "output_type": "display_data"
    }
   ],
   "source": [
    "df_sym = pd.DataFrame(df['engine_capacity'].value_counts())\n",
    "df_sym.plot.pie(subplots=True,labels = df_sym.index.values, autopct='%1.1f%%', figsize = (8,7.5))\n",
    "# Unsquish the pie.\n",
    "plt.gca().set_aspect('equal')\n",
    "plt.show()\n",
    "plt.tight_layout()"
   ]
  },
  {
   "cell_type": "code",
   "execution_count": null,
   "id": "f14513ae",
   "metadata": {},
   "outputs": [],
   "source": []
  },
  {
   "cell_type": "code",
   "execution_count": 32,
   "id": "90d49464",
   "metadata": {},
   "outputs": [
    {
     "data": {
      "text/plain": [
       "array([1240, 1200, 2000, 1990,  660,  660, 1200, 3190, 1800, 2000])"
      ]
     },
     "execution_count": 32,
     "metadata": {},
     "output_type": "execute_result"
    }
   ],
   "source": [
    "df.engine_capacity.values[0:10]"
   ]
  },
  {
   "cell_type": "code",
   "execution_count": null,
   "id": "8dcf7cb4",
   "metadata": {},
   "outputs": [],
   "source": []
  },
  {
   "cell_type": "code",
   "execution_count": 31,
   "id": "83b2937f",
   "metadata": {},
   "outputs": [
    {
     "data": {
      "text/html": [
       "<div>\n",
       "<style scoped>\n",
       "    .dataframe tbody tr th:only-of-type {\n",
       "        vertical-align: middle;\n",
       "    }\n",
       "\n",
       "    .dataframe tbody tr th {\n",
       "        vertical-align: top;\n",
       "    }\n",
       "\n",
       "    .dataframe thead th {\n",
       "        text-align: right;\n",
       "    }\n",
       "</style>\n",
       "<table border=\"1\" class=\"dataframe\">\n",
       "  <thead>\n",
       "    <tr style=\"text-align: right;\">\n",
       "      <th></th>\n",
       "      <th>id</th>\n",
       "      <th>price</th>\n",
       "      <th>mark</th>\n",
       "      <th>model</th>\n",
       "      <th>year</th>\n",
       "      <th>mileage</th>\n",
       "      <th>engine_capacity</th>\n",
       "      <th>transmission</th>\n",
       "      <th>drive</th>\n",
       "      <th>hand_drive</th>\n",
       "      <th>fuel</th>\n",
       "      <th>brand</th>\n",
       "    </tr>\n",
       "  </thead>\n",
       "  <tbody>\n",
       "    <tr>\n",
       "      <th>0</th>\n",
       "      <td>0</td>\n",
       "      <td>80</td>\n",
       "      <td>nissan</td>\n",
       "      <td>march</td>\n",
       "      <td>2003</td>\n",
       "      <td>80000</td>\n",
       "      <td>1240</td>\n",
       "      <td>at</td>\n",
       "      <td>2wd</td>\n",
       "      <td>rhd</td>\n",
       "      <td>gasoline</td>\n",
       "      <td>NISSAN</td>\n",
       "    </tr>\n",
       "    <tr>\n",
       "      <th>1</th>\n",
       "      <td>1</td>\n",
       "      <td>110</td>\n",
       "      <td>nissan</td>\n",
       "      <td>march</td>\n",
       "      <td>2010</td>\n",
       "      <td>53000</td>\n",
       "      <td>1200</td>\n",
       "      <td>at</td>\n",
       "      <td>2wd</td>\n",
       "      <td>rhd</td>\n",
       "      <td>gasoline</td>\n",
       "      <td>NISSAN</td>\n",
       "    </tr>\n",
       "    <tr>\n",
       "      <th>2</th>\n",
       "      <td>2</td>\n",
       "      <td>165</td>\n",
       "      <td>nissan</td>\n",
       "      <td>lafesta</td>\n",
       "      <td>2005</td>\n",
       "      <td>47690</td>\n",
       "      <td>2000</td>\n",
       "      <td>at</td>\n",
       "      <td>2wd</td>\n",
       "      <td>rhd</td>\n",
       "      <td>gasoline</td>\n",
       "      <td>NISSAN</td>\n",
       "    </tr>\n",
       "    <tr>\n",
       "      <th>3</th>\n",
       "      <td>3</td>\n",
       "      <td>190</td>\n",
       "      <td>toyota</td>\n",
       "      <td>avensis</td>\n",
       "      <td>2008</td>\n",
       "      <td>130661</td>\n",
       "      <td>1990</td>\n",
       "      <td>at</td>\n",
       "      <td>2wd</td>\n",
       "      <td>rhd</td>\n",
       "      <td>gasoline</td>\n",
       "      <td>TOYOTA</td>\n",
       "    </tr>\n",
       "    <tr>\n",
       "      <th>4</th>\n",
       "      <td>4</td>\n",
       "      <td>190</td>\n",
       "      <td>daihatsu</td>\n",
       "      <td>mira</td>\n",
       "      <td>2006</td>\n",
       "      <td>66300</td>\n",
       "      <td>660</td>\n",
       "      <td>at</td>\n",
       "      <td>2wd</td>\n",
       "      <td>rhd</td>\n",
       "      <td>gasoline</td>\n",
       "      <td>DAIHATSU</td>\n",
       "    </tr>\n",
       "    <tr>\n",
       "      <th>...</th>\n",
       "      <td>...</td>\n",
       "      <td>...</td>\n",
       "      <td>...</td>\n",
       "      <td>...</td>\n",
       "      <td>...</td>\n",
       "      <td>...</td>\n",
       "      <td>...</td>\n",
       "      <td>...</td>\n",
       "      <td>...</td>\n",
       "      <td>...</td>\n",
       "      <td>...</td>\n",
       "      <td>...</td>\n",
       "    </tr>\n",
       "    <tr>\n",
       "      <th>2313</th>\n",
       "      <td>2331</td>\n",
       "      <td>1400</td>\n",
       "      <td>toyota</td>\n",
       "      <td>vitz</td>\n",
       "      <td>2009</td>\n",
       "      <td>121000</td>\n",
       "      <td>996</td>\n",
       "      <td>at</td>\n",
       "      <td>2wd</td>\n",
       "      <td>rhd</td>\n",
       "      <td>gasoline</td>\n",
       "      <td>TOYOTA</td>\n",
       "    </tr>\n",
       "    <tr>\n",
       "      <th>2314</th>\n",
       "      <td>2332</td>\n",
       "      <td>1400</td>\n",
       "      <td>toyota</td>\n",
       "      <td>estima</td>\n",
       "      <td>2003</td>\n",
       "      <td>101000</td>\n",
       "      <td>3000</td>\n",
       "      <td>at</td>\n",
       "      <td>2wd</td>\n",
       "      <td>rhd</td>\n",
       "      <td>gasoline</td>\n",
       "      <td>TOYOTA</td>\n",
       "    </tr>\n",
       "    <tr>\n",
       "      <th>2315</th>\n",
       "      <td>2333</td>\n",
       "      <td>1400</td>\n",
       "      <td>subaru</td>\n",
       "      <td>r2</td>\n",
       "      <td>2005</td>\n",
       "      <td>101000</td>\n",
       "      <td>660</td>\n",
       "      <td>cvt</td>\n",
       "      <td>2wd</td>\n",
       "      <td>rhd</td>\n",
       "      <td>gasoline</td>\n",
       "      <td>SUBARU</td>\n",
       "    </tr>\n",
       "    <tr>\n",
       "      <th>2316</th>\n",
       "      <td>2334</td>\n",
       "      <td>1400</td>\n",
       "      <td>honda</td>\n",
       "      <td>z</td>\n",
       "      <td>2000</td>\n",
       "      <td>170000</td>\n",
       "      <td>660</td>\n",
       "      <td>at</td>\n",
       "      <td>4wd</td>\n",
       "      <td>rhd</td>\n",
       "      <td>gasoline</td>\n",
       "      <td>HONDA</td>\n",
       "    </tr>\n",
       "    <tr>\n",
       "      <th>2317</th>\n",
       "      <td>2335</td>\n",
       "      <td>1400</td>\n",
       "      <td>toyota</td>\n",
       "      <td>estima t</td>\n",
       "      <td>2005</td>\n",
       "      <td>72320</td>\n",
       "      <td>3000</td>\n",
       "      <td>at</td>\n",
       "      <td>2wd</td>\n",
       "      <td>rhd</td>\n",
       "      <td>gasoline</td>\n",
       "      <td>TOYOTA</td>\n",
       "    </tr>\n",
       "  </tbody>\n",
       "</table>\n",
       "<p>2318 rows × 12 columns</p>\n",
       "</div>"
      ],
      "text/plain": [
       "        id  price      mark     model  year  mileage  engine_capacity  \\\n",
       "0        0     80    nissan     march  2003    80000             1240   \n",
       "1        1    110    nissan     march  2010    53000             1200   \n",
       "2        2    165    nissan   lafesta  2005    47690             2000   \n",
       "3        3    190    toyota   avensis  2008   130661             1990   \n",
       "4        4    190  daihatsu      mira  2006    66300              660   \n",
       "...    ...    ...       ...       ...   ...      ...              ...   \n",
       "2313  2331   1400    toyota      vitz  2009   121000              996   \n",
       "2314  2332   1400    toyota    estima  2003   101000             3000   \n",
       "2315  2333   1400    subaru        r2  2005   101000              660   \n",
       "2316  2334   1400     honda         z  2000   170000              660   \n",
       "2317  2335   1400    toyota  estima t  2005    72320             3000   \n",
       "\n",
       "     transmission drive hand_drive      fuel     brand  \n",
       "0              at   2wd        rhd  gasoline    NISSAN  \n",
       "1              at   2wd        rhd  gasoline    NISSAN  \n",
       "2              at   2wd        rhd  gasoline    NISSAN  \n",
       "3              at   2wd        rhd  gasoline    TOYOTA  \n",
       "4              at   2wd        rhd  gasoline  DAIHATSU  \n",
       "...           ...   ...        ...       ...       ...  \n",
       "2313           at   2wd        rhd  gasoline    TOYOTA  \n",
       "2314           at   2wd        rhd  gasoline    TOYOTA  \n",
       "2315          cvt   2wd        rhd  gasoline    SUBARU  \n",
       "2316           at   4wd        rhd  gasoline     HONDA  \n",
       "2317           at   2wd        rhd  gasoline    TOYOTA  \n",
       "\n",
       "[2318 rows x 12 columns]"
      ]
     },
     "execution_count": 31,
     "metadata": {},
     "output_type": "execute_result"
    }
   ],
   "source": [
    "df"
   ]
  },
  {
   "cell_type": "code",
   "execution_count": null,
   "id": "7a169b7b",
   "metadata": {},
   "outputs": [],
   "source": []
  },
  {
   "cell_type": "code",
   "execution_count": 35,
   "id": "42722941",
   "metadata": {},
   "outputs": [],
   "source": [
    "df['brand'] = df.mark.str.split(' ').str.get(0).str.upper()"
   ]
  },
  {
   "cell_type": "code",
   "execution_count": 36,
   "id": "54794068",
   "metadata": {},
   "outputs": [
    {
     "data": {
      "text/plain": [
       "28"
      ]
     },
     "execution_count": 36,
     "metadata": {},
     "output_type": "execute_result"
    }
   ],
   "source": [
    "len(set(df.brand.values))"
   ]
  },
  {
   "cell_type": "code",
   "execution_count": 39,
   "id": "3e4db25a",
   "metadata": {},
   "outputs": [
    {
     "name": "stderr",
     "output_type": "stream",
     "text": [
      "/Users/macpro/opt/anaconda3/lib/python3.9/site-packages/seaborn/_decorators.py:36: FutureWarning: Pass the following variable as a keyword arg: x. From version 0.12, the only valid positional argument will be `data`, and passing other arguments without an explicit keyword will result in an error or misinterpretation.\n",
      "  warnings.warn(\n"
     ]
    },
    {
     "ename": "NameError",
     "evalue": "name 'xticks' is not defined",
     "output_type": "error",
     "traceback": [
      "\u001b[0;31m---------------------------------------------------------------------------\u001b[0m",
      "\u001b[0;31mNameError\u001b[0m                                 Traceback (most recent call last)",
      "Input \u001b[0;32mIn [39]\u001b[0m, in \u001b[0;36m<cell line: 4>\u001b[0;34m()\u001b[0m\n\u001b[1;32m      2\u001b[0m plt1 \u001b[38;5;241m=\u001b[39m sns\u001b[38;5;241m.\u001b[39mcountplot(df[\u001b[38;5;124m'\u001b[39m\u001b[38;5;124mbrand\u001b[39m\u001b[38;5;124m'\u001b[39m], order\u001b[38;5;241m=\u001b[39mpd\u001b[38;5;241m.\u001b[39mvalue_counts(df[\u001b[38;5;124m'\u001b[39m\u001b[38;5;124mbrand\u001b[39m\u001b[38;5;124m'\u001b[39m])\u001b[38;5;241m.\u001b[39mindex,)\n\u001b[1;32m      3\u001b[0m plt1\u001b[38;5;241m.\u001b[39mset(xlabel \u001b[38;5;241m=\u001b[39m \u001b[38;5;124m'\u001b[39m\u001b[38;5;124mBrand\u001b[39m\u001b[38;5;124m'\u001b[39m, ylabel\u001b[38;5;241m=\u001b[39m \u001b[38;5;124m'\u001b[39m\u001b[38;5;124mprice\u001b[39m\u001b[38;5;124m'\u001b[39m)\n\u001b[0;32m----> 4\u001b[0m \u001b[43mxticks\u001b[49m(rotation \u001b[38;5;241m=\u001b[39m \u001b[38;5;241m60\u001b[39m)\n\u001b[1;32m      5\u001b[0m plt\u001b[38;5;241m.\u001b[39mshow()\n\u001b[1;32m      6\u001b[0m plt\u001b[38;5;241m.\u001b[39mtight_layout()\n",
      "\u001b[0;31mNameError\u001b[0m: name 'xticks' is not defined"
     ]
    },
    {
     "data": {
      "image/png": "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\n",
      "text/plain": [
       "<Figure size 720x360 with 1 Axes>"
      ]
     },
     "metadata": {
      "needs_background": "light"
     },
     "output_type": "display_data"
    }
   ],
   "source": [
    "fig, ax = plt.subplots(figsize = (10,5))\n",
    "plt1 = sns.countplot(df['brand'], order=pd.value_counts(df['brand']).index,)\n",
    "plt1.set(xlabel = 'Brand', ylabel= 'price')\n",
    "xticks(rotation = 60)\n",
    "plt.show()\n",
    "plt.tight_layout()"
   ]
  },
  {
   "cell_type": "code",
   "execution_count": null,
   "id": "0c83bafd",
   "metadata": {},
   "outputs": [],
   "source": []
  },
  {
   "cell_type": "code",
   "execution_count": 40,
   "id": "b3de9743",
   "metadata": {},
   "outputs": [
    {
     "data": {
      "text/plain": [
       "count       2318\n",
       "unique        28\n",
       "top       TOYOTA\n",
       "freq        1047\n",
       "Name: brand, dtype: object"
      ]
     },
     "execution_count": 40,
     "metadata": {},
     "output_type": "execute_result"
    }
   ],
   "source": [
    "df.brand.describe()"
   ]
  },
  {
   "cell_type": "code",
   "execution_count": null,
   "id": "f2fa3e0b",
   "metadata": {},
   "outputs": [],
   "source": []
  },
  {
   "cell_type": "code",
   "execution_count": null,
   "id": "0ce32320",
   "metadata": {},
   "outputs": [],
   "source": []
  },
  {
   "cell_type": "code",
   "execution_count": null,
   "id": "79ea7cd9",
   "metadata": {},
   "outputs": [],
   "source": []
  },
  {
   "cell_type": "code",
   "execution_count": null,
   "id": "46f7f024",
   "metadata": {},
   "outputs": [],
   "source": []
  }
 ],
 "metadata": {
  "kernelspec": {
   "display_name": "Python 3 (ipykernel)",
   "language": "python",
   "name": "python3"
  },
  "language_info": {
   "codemirror_mode": {
    "name": "ipython",
    "version": 3
   },
   "file_extension": ".py",
   "mimetype": "text/x-python",
   "name": "python",
   "nbconvert_exporter": "python",
   "pygments_lexer": "ipython3",
   "version": "3.9.12"
  }
 },
 "nbformat": 4,
 "nbformat_minor": 5
}
